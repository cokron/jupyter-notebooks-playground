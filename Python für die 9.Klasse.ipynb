{
 "cells": [
  {
   "cell_type": "markdown",
   "id": "a6071b4e",
   "metadata": {},
   "source": [
    "# Variablen\n",
    "\n",
    "Eine \"Variable\" ist ein Platzhalter für einen Wert, wie z.B. einer Zahl.\n",
    "\n",
    "Man kann sich eine Variable wie eine Schublade vorstellen, die mit einem Namen beschriftet ist. \n",
    "\n",
    "Wenn wir ihr einen Wert zuweisen, legen wir diesen quasi in die Schublade."
   ]
  },
  {
   "cell_type": "code",
   "execution_count": 1,
   "id": "5bb782ca",
   "metadata": {},
   "outputs": [],
   "source": [
    "a = 1    # weist der Variablen a den Wert 1 zu\n",
    "b = a    # weist der Variablen b den Wert von a, also 1 zu"
   ]
  },
  {
   "cell_type": "markdown",
   "id": "2ffe375f",
   "metadata": {},
   "source": [
    "In der Schublade mit der Aufschrift \"a\" liegt jetzt der Wert 1.\n",
    "In der Schublade mit der Aufschrift \"b\" liegt ebenfalls der Wert 1."
   ]
  },
  {
   "cell_type": "code",
   "execution_count": 2,
   "id": "4fd7ef57",
   "metadata": {},
   "outputs": [
    {
     "name": "stdout",
     "output_type": "stream",
     "text": [
      "a hat den Wert 1\n",
      "b hat den Wert 1\n"
     ]
    }
   ],
   "source": [
    "print(\"a hat den Wert\", a)\n",
    "print(\"b hat den Wert\", b)"
   ]
  },
  {
   "cell_type": "code",
   "execution_count": 3,
   "id": "ac8477ff",
   "metadata": {},
   "outputs": [],
   "source": [
    "a = a + 1     # wir können a einen neuen Wert geben. b behält seinen Wert"
   ]
  },
  {
   "cell_type": "code",
   "execution_count": 4,
   "id": "97a42d28",
   "metadata": {},
   "outputs": [
    {
     "name": "stdout",
     "output_type": "stream",
     "text": [
      "a hat den Wert 2\n",
      "b hat den Wert 1\n"
     ]
    }
   ],
   "source": [
    "print(\"a hat den Wert\", a)\n",
    "print(\"b hat den Wert\", b)"
   ]
  },
  {
   "cell_type": "code",
   "execution_count": 5,
   "id": "f666a0a8",
   "metadata": {},
   "outputs": [
    {
     "name": "stdout",
     "output_type": "stream",
     "text": [
      "3.141592\n"
     ]
    }
   ],
   "source": [
    "pi = 3.141592\n",
    "r = 0.5\n",
    "print(2 * r * pi)"
   ]
  },
  {
   "cell_type": "code",
   "execution_count": 6,
   "id": "18e59086",
   "metadata": {},
   "outputs": [
    {
     "name": "stdout",
     "output_type": "stream",
     "text": [
      "Vanille ist meine Lieblingseissorte.\n"
     ]
    }
   ],
   "source": [
    "lieblingseis = \"Vanille\"\n",
    "print(lieblingseis, \"ist meine Lieblingseissorte.\")"
   ]
  },
  {
   "cell_type": "markdown",
   "id": "37151be0",
   "metadata": {},
   "source": [
    "## Es gibt noch anderere Datentypen, wie z.B. die Liste:"
   ]
  },
  {
   "cell_type": "code",
   "execution_count": 7,
   "id": "590b6bed",
   "metadata": {},
   "outputs": [
    {
     "name": "stdout",
     "output_type": "stream",
     "text": [
      "Die ersten Primzahlen lauten: [1, 2, 3, 5, 7, 11, 13, 17, 19]\n"
     ]
    }
   ],
   "source": [
    "primzahlen = [1, 2, 3, 5, 7, 11, 13, 17, 19]\n",
    "print(\"Die ersten Primzahlen lauten:\", primzahlen)"
   ]
  },
  {
   "cell_type": "code",
   "execution_count": 8,
   "id": "edd3f8b7",
   "metadata": {},
   "outputs": [
    {
     "name": "stdout",
     "output_type": "stream",
     "text": [
      "Die erste Primzahl lautetet: 1\n",
      "Die zweite Primzahl lautetet: 2\n",
      "Die vierte Primzahl lautetet: 5\n"
     ]
    }
   ],
   "source": [
    "print(\"Die erste Primzahl lautetet:\", primzahlen[0])\n",
    "print(\"Die zweite Primzahl lautetet:\", primzahlen[1])\n",
    "print(\"Die vierte Primzahl lautetet:\", primzahlen[3])"
   ]
  },
  {
   "cell_type": "code",
   "execution_count": 9,
   "id": "682c1963",
   "metadata": {},
   "outputs": [
    {
     "name": "stdout",
     "output_type": "stream",
     "text": [
      "Die ersten 3 Primzahlen lauten: [1, 2, 3]\n"
     ]
    }
   ],
   "source": [
    "print(\"Die ersten 3 Primzahlen lauten:\", primzahlen[:3])"
   ]
  },
  {
   "cell_type": "code",
   "execution_count": 10,
   "id": "017e807a",
   "metadata": {},
   "outputs": [
    {
     "name": "stdout",
     "output_type": "stream",
     "text": [
      "Nach den 3 ersten Primzahlen gibt es in unserer Liste die folgenden: [5, 7, 11, 13, 17, 19]\n"
     ]
    }
   ],
   "source": [
    "print(\"Nach den 3 ersten Primzahlen gibt es in unserer Liste die folgenden:\", primzahlen[3:])"
   ]
  },
  {
   "cell_type": "markdown",
   "id": "947fe09d",
   "metadata": {},
   "source": [
    "## Wie können wir den Wert von zwei Variablen tauschen?\n",
    "\n",
    "Wir versuchen es \"ganz naiv\" erst mal so:"
   ]
  },
  {
   "cell_type": "code",
   "execution_count": 11,
   "id": "b9bfecaf",
   "metadata": {},
   "outputs": [
    {
     "name": "stdout",
     "output_type": "stream",
     "text": [
      "a hat den Wert 100\n",
      "b hat den Wert 100\n"
     ]
    }
   ],
   "source": [
    "a = 1\n",
    "b = 100\n",
    "\n",
    "a = b\n",
    "b = a\n",
    "\n",
    "print(\"a hat den Wert\", a)\n",
    "print(\"b hat den Wert\", b)"
   ]
  },
  {
   "cell_type": "markdown",
   "id": "25290981",
   "metadata": {},
   "source": [
    "Das Tauschen hat nicht funktioniert.\n",
    "\n",
    "Als erstes hat hier a den Wert von b bekommen, also 100. Jetzt haben a und b den Wert 100.  Wenn wir danach b den Wert von a geben, ist b immer noch 100 und nicht etwa 1.\n",
    "\n",
    "Was tun?"
   ]
  },
  {
   "cell_type": "code",
   "execution_count": 12,
   "id": "5e7a17a7",
   "metadata": {},
   "outputs": [
    {
     "name": "stdout",
     "output_type": "stream",
     "text": [
      "a hat den Wert 100\n",
      "b hat den Wert 1\n"
     ]
    }
   ],
   "source": [
    "# erste Möglichkeit: wir nehmen eine Variable c zu Hilfe:\n",
    "\n",
    "a = 1\n",
    "b = 100\n",
    "\n",
    "c = a\n",
    "a = b\n",
    "b = c\n",
    "\n",
    "print(\"a hat den Wert\", a)\n",
    "print(\"b hat den Wert\", b)"
   ]
  },
  {
   "cell_type": "code",
   "execution_count": 13,
   "id": "6a1eea1a",
   "metadata": {},
   "outputs": [
    {
     "name": "stdout",
     "output_type": "stream",
     "text": [
      "a hat den Wert 1\n",
      "b hat den Wert 100\n"
     ]
    }
   ],
   "source": [
    "# zweite Möglichkeit: \n",
    "# wir \"vertauschen\" gleichzeitig:\n",
    "\n",
    "a,b = b,a\n",
    "\n",
    "print(\"a hat den Wert\", a)\n",
    "print(\"b hat den Wert\", b)"
   ]
  },
  {
   "cell_type": "markdown",
   "id": "f4c6865c",
   "metadata": {},
   "source": [
    "## Wie werden die gängigen Rechenoperationen geschrieben?"
   ]
  },
  {
   "cell_type": "code",
   "execution_count": 14,
   "id": "92d2f7ef",
   "metadata": {},
   "outputs": [],
   "source": [
    "a = 10\n",
    "b = 3"
   ]
  },
  {
   "cell_type": "code",
   "execution_count": 15,
   "id": "d0fe75da",
   "metadata": {},
   "outputs": [
    {
     "data": {
      "text/plain": [
       "13"
      ]
     },
     "execution_count": 15,
     "metadata": {},
     "output_type": "execute_result"
    }
   ],
   "source": [
    "a + b"
   ]
  },
  {
   "cell_type": "code",
   "execution_count": 16,
   "id": "1c0d8108",
   "metadata": {},
   "outputs": [
    {
     "data": {
      "text/plain": [
       "7"
      ]
     },
     "execution_count": 16,
     "metadata": {},
     "output_type": "execute_result"
    }
   ],
   "source": [
    "a - b"
   ]
  },
  {
   "cell_type": "code",
   "execution_count": 17,
   "id": "3798d913",
   "metadata": {},
   "outputs": [
    {
     "data": {
      "text/plain": [
       "30"
      ]
     },
     "execution_count": 17,
     "metadata": {},
     "output_type": "execute_result"
    }
   ],
   "source": [
    "a * b"
   ]
  },
  {
   "cell_type": "code",
   "execution_count": 18,
   "id": "558f4009",
   "metadata": {},
   "outputs": [
    {
     "data": {
      "text/plain": [
       "3.3333333333333335"
      ]
     },
     "execution_count": 18,
     "metadata": {},
     "output_type": "execute_result"
    }
   ],
   "source": [
    "a / b"
   ]
  },
  {
   "cell_type": "code",
   "execution_count": 19,
   "id": "faf6b395",
   "metadata": {},
   "outputs": [
    {
     "data": {
      "text/plain": [
       "1"
      ]
     },
     "execution_count": 19,
     "metadata": {},
     "output_type": "execute_result"
    }
   ],
   "source": [
    "a % b       # der Rest, wenn man a durch b teilt. 10 / 3 ist 3 ganze, 1 Rest."
   ]
  },
  {
   "cell_type": "code",
   "execution_count": 20,
   "id": "5aa2006c",
   "metadata": {},
   "outputs": [
    {
     "data": {
      "text/plain": [
       "1000"
      ]
     },
     "execution_count": 20,
     "metadata": {},
     "output_type": "execute_result"
    }
   ],
   "source": [
    "a ** b      # a hoch b, also a * a * a   oder 10 * 10 * 10 "
   ]
  },
  {
   "cell_type": "markdown",
   "id": "59eadadc",
   "metadata": {},
   "source": [
    "# Kontroll-Strukturen\n",
    "\n",
    "##  if, else- Bedingung\n",
    "\n",
    "Wenn wir prüfen wollen, ob eine Aussage stimmt, benutzen wir \"if\":"
   ]
  },
  {
   "cell_type": "code",
   "execution_count": 21,
   "id": "d63998b6",
   "metadata": {},
   "outputs": [
    {
     "name": "stdout",
     "output_type": "stream",
     "text": [
      "a ist größer als b\n"
     ]
    }
   ],
   "source": [
    "if a > b:\n",
    "    print(\"a ist größer als b\")\n",
    "else:\n",
    "    print(\"a ist nicht größer als b\")"
   ]
  },
  {
   "cell_type": "markdown",
   "id": "d4fad731",
   "metadata": {},
   "source": [
    "## Vergleichs-Operatoren\n",
    "\n",
    "Wir haben eben `>` verwendet. Das steht für \"größer\".\n",
    "\n",
    "* `==` bedeutet dass die zwei Seiten gleich sind. Bsp.: `if a == 4` wird ausgeführt, wenn a gleich dem Wert 4 ist.\n",
    "* `!=` bedeutet, dass die zwei Seiten ungleich sind.\n",
    "* `<` heißt kleiner\n",
    "* `>=` bedeutet größer oder gleich und\n",
    "* `<=` bedeutet kleiner oder gleich"
   ]
  },
  {
   "cell_type": "markdown",
   "id": "634de07d",
   "metadata": {},
   "source": [
    "## Schleifen\n",
    "\n",
    "Manchmal möchten wir etwas mehrfach machen. Wir haben mehrere Möglichkeiten:"
   ]
  },
  {
   "cell_type": "markdown",
   "id": "8be336a0",
   "metadata": {},
   "source": [
    "### while - Bedinung\n",
    "\n",
    "Hier wird etwas so lange ausgeführt, bis die Bedingung wahr ist:"
   ]
  },
  {
   "cell_type": "code",
   "execution_count": 22,
   "id": "c48cd00f",
   "metadata": {},
   "outputs": [
    {
     "name": "stdout",
     "output_type": "stream",
     "text": [
      "2\n",
      "4\n",
      "8\n",
      "16\n",
      "32\n",
      "64\n"
     ]
    }
   ],
   "source": [
    "# 2-er Potenzen unter 100 berechnen\n",
    "x = 2\n",
    "while x < 100:\n",
    "    print(x)\n",
    "    x = x * 2"
   ]
  },
  {
   "cell_type": "markdown",
   "id": "74ed0c13",
   "metadata": {},
   "source": [
    "### for - Schleife"
   ]
  },
  {
   "cell_type": "code",
   "execution_count": 23,
   "id": "d8579a1d",
   "metadata": {},
   "outputs": [
    {
     "name": "stdout",
     "output_type": "stream",
     "text": [
      "Jan hat im Lotto gewonnen.\n",
      "Lars hat im Lotto gewonnen.\n",
      "Klas hat im Lotto gewonnen.\n",
      "Pit hat im Lotto gewonnen.\n"
     ]
    }
   ],
   "source": [
    "gewinner = ['Jan', 'Lars', 'Klas', 'Pit']\n",
    "\n",
    "for name in gewinner:\n",
    "    print(name, \"hat im Lotto gewonnen.\")"
   ]
  },
  {
   "cell_type": "markdown",
   "id": "4b19bea1",
   "metadata": {},
   "source": [
    "Diese Schleifen lassen sich auch verschachteln, z.B., um Doppelnamen zu generieren:"
   ]
  },
  {
   "cell_type": "code",
   "execution_count": 24,
   "id": "b0b7de39",
   "metadata": {},
   "outputs": [
    {
     "name": "stdout",
     "output_type": "stream",
     "text": [
      "Mia Sophie\n",
      "Mia Emma\n",
      "Mia Lara\n",
      "Sophie Mia\n",
      "Sophie Emma\n",
      "Sophie Lara\n",
      "Emma Mia\n",
      "Emma Sophie\n",
      "Emma Lara\n",
      "Lara Mia\n",
      "Lara Sophie\n",
      "Lara Emma\n"
     ]
    }
   ],
   "source": [
    "namen = ['Mia', 'Sophie', 'Emma', 'Lara']\n",
    "\n",
    "for name1 in namen:\n",
    "    for name2 in namen:\n",
    "        if name1 != name2:\n",
    "            print(name1, name2)"
   ]
  },
  {
   "cell_type": "markdown",
   "id": "c1db9256",
   "metadata": {},
   "source": [
    "Oder für die, die das Einmal-Eins noch mal üben wollen:"
   ]
  },
  {
   "cell_type": "code",
   "execution_count": 25,
   "id": "131d4199",
   "metadata": {},
   "outputs": [
    {
     "name": "stdout",
     "output_type": "stream",
     "text": [
      "5 * 5 = 25\n",
      "5 * 6 = 30\n",
      "5 * 7 = 35\n",
      "5 * 8 = 40\n",
      "5 * 9 = 45\n",
      "\n",
      "6 * 5 = 30\n",
      "6 * 6 = 36\n",
      "6 * 7 = 42\n",
      "6 * 8 = 48\n",
      "6 * 9 = 54\n",
      "\n",
      "7 * 5 = 35\n",
      "7 * 6 = 42\n",
      "7 * 7 = 49\n",
      "7 * 8 = 56\n",
      "7 * 9 = 63\n",
      "\n",
      "8 * 5 = 40\n",
      "8 * 6 = 48\n",
      "8 * 7 = 56\n",
      "8 * 8 = 64\n",
      "8 * 9 = 72\n",
      "\n",
      "9 * 5 = 45\n",
      "9 * 6 = 54\n",
      "9 * 7 = 63\n",
      "9 * 8 = 72\n",
      "9 * 9 = 81\n",
      "\n"
     ]
    }
   ],
   "source": [
    "for i in range(5,10):\n",
    "    for j in range(5,10):\n",
    "        print(f\"{i} * {j} = {i * j}\")\n",
    "        \n",
    "    print()    # Leere Zeile einfügen"
   ]
  },
  {
   "cell_type": "markdown",
   "id": "ed8ef725",
   "metadata": {},
   "source": [
    "die doppelten Einträge stören? Wir haben z.B. 5 * 8 und 8 * 5 drin - also doppelt.\n",
    "\n",
    "Wie können wir das lösen?"
   ]
  },
  {
   "cell_type": "code",
   "execution_count": 26,
   "id": "6d1bb1e7",
   "metadata": {},
   "outputs": [
    {
     "name": "stdout",
     "output_type": "stream",
     "text": [
      "5 * 5 = 25\n",
      "5 * 6 = 30\n",
      "5 * 7 = 35\n",
      "5 * 8 = 40\n",
      "5 * 9 = 45\n",
      "\n",
      "6 * 6 = 36\n",
      "6 * 7 = 42\n",
      "6 * 8 = 48\n",
      "6 * 9 = 54\n",
      "\n",
      "7 * 7 = 49\n",
      "7 * 8 = 56\n",
      "7 * 9 = 63\n",
      "\n",
      "8 * 8 = 64\n",
      "8 * 9 = 72\n",
      "\n",
      "9 * 9 = 81\n",
      "\n"
     ]
    }
   ],
   "source": [
    "for i in range(5,10):\n",
    "    for j in range(i,10):       # hier haben wir mit i angefangen!\n",
    "        print(f\"{i} * {j} = {i * j}\")\n",
    "        \n",
    "    print()    # Leere Zeile einfügen"
   ]
  },
  {
   "cell_type": "markdown",
   "id": "bf1905d0",
   "metadata": {},
   "source": [
    "# Funktionen\n",
    "\n",
    "Wir hatten uns gefragt, ob wir auch so etwas, wie eine \"Formel\" schreiben können.\n",
    "\n",
    "Wir möchten z.B. $1 + \\dfrac{3}{4}$ berechnen, oder allgemein $a + \\dfrac{b}{c}$.\n",
    "\n",
    "Ja, das geht. Man nennt das eine \"Funktion\". \n",
    "\n",
    "Wir können eine Funktion erstellen, die wir \"erweitere\" nennen und die 3 Parameter a, b, c verwendet:"
   ]
  },
  {
   "cell_type": "code",
   "execution_count": 27,
   "id": "f85fe5fd",
   "metadata": {},
   "outputs": [],
   "source": [
    "def erweitere(a, b, c):\n",
    "    return a * c + b"
   ]
  },
  {
   "cell_type": "markdown",
   "id": "0cefd738",
   "metadata": {},
   "source": [
    "Wir können diese Methode jetzt aufrufen - müssen ihr aber Werte für a, b und c übergeben:"
   ]
  },
  {
   "cell_type": "code",
   "execution_count": 28,
   "id": "ceeaf3a7",
   "metadata": {},
   "outputs": [
    {
     "data": {
      "text/plain": [
       "7"
      ]
     },
     "execution_count": 28,
     "metadata": {},
     "output_type": "execute_result"
    }
   ],
   "source": [
    "erweitere(1, 3, 4)"
   ]
  },
  {
   "cell_type": "markdown",
   "id": "955c0e02",
   "metadata": {},
   "source": [
    "Hier gibt uns die Methode \"erweitere\" $7$ zurück. Das heißt für uns $1 + \\dfrac{3}{4} = \\dfrac{7}{4}$"
   ]
  },
  {
   "cell_type": "code",
   "execution_count": 29,
   "id": "b3f1edea",
   "metadata": {},
   "outputs": [
    {
     "data": {
      "text/plain": [
       "5"
      ]
     },
     "execution_count": 29,
     "metadata": {},
     "output_type": "execute_result"
    }
   ],
   "source": [
    "erweitere(2, 1, 2)"
   ]
  },
  {
   "cell_type": "markdown",
   "id": "91ec2b21",
   "metadata": {},
   "source": [
    "$2 + \\dfrac{1}{2}$ sind $\\dfrac{5}{2}$"
   ]
  },
  {
   "cell_type": "markdown",
   "id": "139cd2af",
   "metadata": {},
   "source": [
    "**Aufgabe 1:**\n",
    "\n",
    "Schreibe eine Funktion, die eine Zahl quadriert.\n",
    "\n",
    "Nenne sie \"quadriere\". Wie viele Parameter hat sie? Was soll sie zurückgeben?\n",
    "\n",
    "Wenn du dich an der Definition von \"erweitere\" orientierst, schaffst du das!"
   ]
  },
  {
   "cell_type": "markdown",
   "id": "c59afdb5",
   "metadata": {},
   "source": [
    "#### Aufgabe 2:\n",
    "\n",
    "*Wie könnten wir eine Funktion schreiben, die zu einer gegebenen Zahl die Fakultät der Zahl berechnet?*\n",
    "\n",
    "Zur Erinnerung: Für \"Fakultät\" schreiben wir ein \"!\".\n",
    "\n",
    "Es gilt:  \n",
    "\n",
    "$1! = 1$ \n",
    "\n",
    "und \n",
    "\n",
    "$2! = 2 * 1!$ \n",
    "\n",
    "sowie \n",
    "\n",
    "$3! = 3 * 2!$ \n",
    "\n",
    "oder ganz allgemein: \n",
    "\n",
    "$n! = n * (n - 1)!$.\n",
    "\n",
    "**Tipp:** \n",
    "\n",
    "Erstelle eine Methode. In der Methode mache eine Fallunterscheidung, ob $n == 1$ ist oder nicht. \n",
    "\n",
    "Kannst du in der Methode die Methode selbst aufrufen?"
   ]
  },
  {
   "cell_type": "markdown",
   "id": "da054c04",
   "metadata": {},
   "source": [
    "# Zusätzliche Bibliotheken laden\n",
    "\n",
    "Für Python gibt es unglaublich viele Bibliotheken, die Aufgaben für uns verrichten. Wir können Sie laden, indem wir\n",
    "\n",
    "```\n",
    "import HierNameDerBibliothekEinsetzen\n",
    "```\n",
    "\n",
    "schreiben.\n",
    "\n",
    "Bsp:"
   ]
  },
  {
   "cell_type": "code",
   "execution_count": 30,
   "id": "e9f404a9",
   "metadata": {},
   "outputs": [],
   "source": [
    "import math"
   ]
  },
  {
   "cell_type": "code",
   "execution_count": 31,
   "id": "ef9a2d97",
   "metadata": {},
   "outputs": [
    {
     "data": {
      "text/plain": [
       "3.141592653589793"
      ]
     },
     "execution_count": 31,
     "metadata": {},
     "output_type": "execute_result"
    }
   ],
   "source": [
    "math.pi         # die berühmte Zahl π"
   ]
  },
  {
   "cell_type": "code",
   "execution_count": 32,
   "id": "a2871b7d",
   "metadata": {},
   "outputs": [
    {
     "data": {
      "text/plain": [
       "3"
      ]
     },
     "execution_count": 32,
     "metadata": {},
     "output_type": "execute_result"
    }
   ],
   "source": [
    "math.floor(3.77)    # gibt uns die nächst-kleinere ganze Zahl aus"
   ]
  },
  {
   "cell_type": "code",
   "execution_count": 33,
   "id": "2d5fec5a",
   "metadata": {},
   "outputs": [
    {
     "data": {
      "text/plain": [
       "-4"
      ]
     },
     "execution_count": 33,
     "metadata": {},
     "output_type": "execute_result"
    }
   ],
   "source": [
    "math.floor(-3.6)    # ... ja, die nächst- *kleinere* ! Hier sind wir im negativen Zahlenraum"
   ]
  },
  {
   "cell_type": "code",
   "execution_count": 34,
   "id": "c98af232",
   "metadata": {},
   "outputs": [
    {
     "data": {
      "text/plain": [
       "120"
      ]
     },
     "execution_count": 34,
     "metadata": {},
     "output_type": "execute_result"
    }
   ],
   "source": [
    "math.factorial(5)    # Berechnet 5! (5 Fakultät)"
   ]
  },
  {
   "cell_type": "markdown",
   "id": "aa6b1ab7",
   "metadata": {},
   "source": [
    "Wen das Thema interessiert, der kann man schauen, was es noch so an Bibliotheken gibt.\n",
    "\n",
    "Zu den wichtigsten Python-Bibliotheken zählen:\n",
    "\n",
    "* Pandas\n",
    "* Numpy\n",
    "* SciPy\n",
    "* TensorFlow\n",
    "* Scikit-Learn\n",
    "* Keras\n",
    "\n"
   ]
  },
  {
   "cell_type": "markdown",
   "id": "ea083be6",
   "metadata": {},
   "source": [
    "# Brüche formatiert ausgeben\n",
    "\n",
    "Viele mathematische Arbeiten werden mit einem Format gesetzt, das \"Latex\" heißt.\n",
    "\n",
    "\n",
    "Jupyter unterstützt ebenfalls Latex.\n",
    "\n",
    "Bsp.-weise kann man mit `$ \\dfrac{zaehler}{nenner} $` einen Bruch darstellen. Das sieht dann so aus: $\\dfrac{zaehler}{nenner}$. Das \"$\"- Zeichen am Anfang und am Ende zeigt an, dass jetzt ein Inhalt kommt, der in Latex gesetzt wurde.\n",
    "\n",
    "Einen Kettenbruch kann man darstellen, indem man in den zweiten geschweiften Klammern wieder `\\dfrac{...}{...}` schreibt. \n",
    "\n",
    "\n",
    "Bsp.: `$ \\dfrac{1}{2 + \\dfrac{3}{4} } $` ergibt $\\dfrac{1}{2+ \\dfrac{3}{4}}$.\n",
    "\n",
    "Wenn wir also eine Liste wie `[1,2,3,4]` haben, können wir den dazugehörigen Kettenbruch durch geschicktes Verschachteln von `\\dfrac{}{ ... }` formatieren.\n",
    "\n",
    "`$ 1 + \\dfrac{ 1}{ 2 + \\dfrac{ 1}{ 3 + \\dfrac{ 1}{ 4 } } } $` ergibt \n",
    "\n",
    "$1 + \\dfrac{ 1}{ 2 + \\dfrac{ 1}{ 3 + \\dfrac{ 1}{ 4 } } }$"
   ]
  },
  {
   "cell_type": "code",
   "execution_count": null,
   "id": "dd5d9bed",
   "metadata": {},
   "outputs": [],
   "source": []
  }
 ],
 "metadata": {
  "kernelspec": {
   "display_name": "Python 3 (ipykernel)",
   "language": "python",
   "name": "python3"
  },
  "language_info": {
   "codemirror_mode": {
    "name": "ipython",
    "version": 3
   },
   "file_extension": ".py",
   "mimetype": "text/x-python",
   "name": "python",
   "nbconvert_exporter": "python",
   "pygments_lexer": "ipython3",
   "version": "3.8.9"
  }
 },
 "nbformat": 4,
 "nbformat_minor": 5
}
